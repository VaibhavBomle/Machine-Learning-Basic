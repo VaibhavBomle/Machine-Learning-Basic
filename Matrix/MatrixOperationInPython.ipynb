{
  "nbformat": 4,
  "nbformat_minor": 0,
  "metadata": {
    "colab": {
      "provenance": []
    },
    "kernelspec": {
      "name": "python3",
      "display_name": "Python 3"
    },
    "language_info": {
      "name": "python"
    }
  },
  "cells": [
    {
      "cell_type": "code",
      "source": [
        "# Import Numpy Library\n",
        "import numpy as np"
      ],
      "metadata": {
        "id": "1JEUXUvX_GQd"
      },
      "execution_count": 3,
      "outputs": []
    },
    {
      "cell_type": "markdown",
      "source": [
        "**Matrix Addition**"
      ],
      "metadata": {
        "id": "HjC6DoeS_Oi8"
      }
    },
    {
      "cell_type": "markdown",
      "source": [
        "Two Matrices can be added only if they have the same shape"
      ],
      "metadata": {
        "id": "ujbOzay9_Urc"
      }
    },
    {
      "cell_type": "code",
      "source": [
        "# Creating two matrices\n",
        "\n",
        "A = np.array([[2,3],[4,5]])\n",
        "\n",
        "B = np.array([[6,7],[8,9]])\n",
        "\n"
      ],
      "metadata": {
        "id": "G4jvCatM_lTf"
      },
      "execution_count": 4,
      "outputs": []
    },
    {
      "cell_type": "code",
      "source": [
        "print(A)"
      ],
      "metadata": {
        "colab": {
          "base_uri": "https://localhost:8080/"
        },
        "id": "0hy_CsW-_2TL",
        "outputId": "c4304301-9ec2-4f9e-81b3-24bb04231eba"
      },
      "execution_count": 5,
      "outputs": [
        {
          "output_type": "stream",
          "name": "stdout",
          "text": [
            "[[2 3]\n",
            " [4 5]]\n"
          ]
        }
      ]
    },
    {
      "cell_type": "code",
      "source": [
        "print(B)"
      ],
      "metadata": {
        "colab": {
          "base_uri": "https://localhost:8080/"
        },
        "id": "JOUCucJ2AAe4",
        "outputId": "fa53abb4-eaa6-4215-a65c-997044ac9475"
      },
      "execution_count": 6,
      "outputs": [
        {
          "output_type": "stream",
          "name": "stdout",
          "text": [
            "[[6 7]\n",
            " [8 9]]\n"
          ]
        }
      ]
    },
    {
      "cell_type": "code",
      "source": [
        "A.shape"
      ],
      "metadata": {
        "colab": {
          "base_uri": "https://localhost:8080/"
        },
        "id": "_LKIj5YdAF6d",
        "outputId": "9f95a75c-ebce-47ec-edd8-db292f25e822"
      },
      "execution_count": 7,
      "outputs": [
        {
          "output_type": "execute_result",
          "data": {
            "text/plain": [
              "(2, 2)"
            ]
          },
          "metadata": {},
          "execution_count": 7
        }
      ]
    },
    {
      "cell_type": "code",
      "source": [
        "B.shape"
      ],
      "metadata": {
        "colab": {
          "base_uri": "https://localhost:8080/"
        },
        "id": "EN6NdyNhAG1p",
        "outputId": "0f668f96-1fb3-47ef-9060-42c5f06b6466"
      },
      "execution_count": 8,
      "outputs": [
        {
          "output_type": "execute_result",
          "data": {
            "text/plain": [
              "(2, 2)"
            ]
          },
          "metadata": {},
          "execution_count": 8
        }
      ]
    },
    {
      "cell_type": "markdown",
      "source": [
        "Adding the two matrices"
      ],
      "metadata": {
        "id": "V1OApoyLjuEg"
      }
    },
    {
      "cell_type": "code",
      "source": [
        "sum = A + B\n"
      ],
      "metadata": {
        "id": "8Si1B9_Ojzqo"
      },
      "execution_count": 9,
      "outputs": []
    },
    {
      "cell_type": "code",
      "source": [
        "print(sum)"
      ],
      "metadata": {
        "colab": {
          "base_uri": "https://localhost:8080/"
        },
        "id": "acs4MEC5kDnI",
        "outputId": "1cdb7841-7049-4392-d083-9f177c8047ab"
      },
      "execution_count": 10,
      "outputs": [
        {
          "output_type": "stream",
          "name": "stdout",
          "text": [
            "[[ 8 10]\n",
            " [12 14]]\n"
          ]
        }
      ]
    },
    {
      "cell_type": "code",
      "source": [
        "# Create two matrices with random values\n",
        "matrix_1 = np.random.randint(10,size = (3,3))\n",
        "matrix_2 = np.random.randint(10,size = (3,3))"
      ],
      "metadata": {
        "id": "OQ4qsBmLjo0N"
      },
      "execution_count": 13,
      "outputs": []
    },
    {
      "cell_type": "code",
      "source": [
        "print(matrix_1)\n",
        "print(matrix_2)"
      ],
      "metadata": {
        "colab": {
          "base_uri": "https://localhost:8080/"
        },
        "id": "2H2LUPrSk-lj",
        "outputId": "c1110697-fd01-48ec-c709-ea2fe64b84a3"
      },
      "execution_count": 14,
      "outputs": [
        {
          "output_type": "stream",
          "name": "stdout",
          "text": [
            "[[0 8 2]\n",
            " [1 7 0]\n",
            " [2 6 0]]\n",
            "[[1 8 5]\n",
            " [2 4 3]\n",
            " [4 6 9]]\n"
          ]
        }
      ]
    },
    {
      "cell_type": "code",
      "source": [
        "sum = np.add(matrix_1,matrix_2)"
      ],
      "metadata": {
        "id": "xrdNYf1_lPKU"
      },
      "execution_count": 15,
      "outputs": []
    },
    {
      "cell_type": "code",
      "source": [
        "print(sum)"
      ],
      "metadata": {
        "colab": {
          "base_uri": "https://localhost:8080/"
        },
        "id": "FYsx-ECplYCO",
        "outputId": "52f95e61-4c0c-43c0-d5d4-48e0c1d81cca"
      },
      "execution_count": 16,
      "outputs": [
        {
          "output_type": "stream",
          "name": "stdout",
          "text": [
            "[[ 1 16  7]\n",
            " [ 3 11  3]\n",
            " [ 6 12  9]]\n"
          ]
        }
      ]
    },
    {
      "cell_type": "code",
      "source": [
        "# Create two matrices with random values\n",
        "matrix_3 = np.random.randint(10,size = (3,3))\n",
        "matrix_4 = np.random.randint(10,size = (3,4))"
      ],
      "metadata": {
        "id": "MhBPA-dWlsQk"
      },
      "execution_count": 19,
      "outputs": []
    },
    {
      "cell_type": "code",
      "source": [
        "sum2 = np.add(matrix_3,matrix_4)"
      ],
      "metadata": {
        "colab": {
          "base_uri": "https://localhost:8080/",
          "height": 141
        },
        "id": "SL_bnSTglwgd",
        "outputId": "420d7b6e-24f2-44a4-ece4-bc061f20d5e1"
      },
      "execution_count": 20,
      "outputs": [
        {
          "output_type": "error",
          "ename": "ValueError",
          "evalue": "operands could not be broadcast together with shapes (3,3) (3,4) ",
          "traceback": [
            "\u001b[0;31m---------------------------------------------------------------------------\u001b[0m",
            "\u001b[0;31mValueError\u001b[0m                                Traceback (most recent call last)",
            "\u001b[0;32m<ipython-input-20-b14ccc597ce8>\u001b[0m in \u001b[0;36m<cell line: 1>\u001b[0;34m()\u001b[0m\n\u001b[0;32m----> 1\u001b[0;31m \u001b[0msum2\u001b[0m \u001b[0;34m=\u001b[0m \u001b[0mnp\u001b[0m\u001b[0;34m.\u001b[0m\u001b[0madd\u001b[0m\u001b[0;34m(\u001b[0m\u001b[0mmatrix_3\u001b[0m\u001b[0;34m,\u001b[0m\u001b[0mmatrix_4\u001b[0m\u001b[0;34m)\u001b[0m\u001b[0;34m\u001b[0m\u001b[0;34m\u001b[0m\u001b[0m\n\u001b[0m",
            "\u001b[0;31mValueError\u001b[0m: operands could not be broadcast together with shapes (3,3) (3,4) "
          ]
        }
      ]
    },
    {
      "cell_type": "markdown",
      "source": [
        "We get this error because shape of matrix_3 and matrix_4 are different"
      ],
      "metadata": {
        "id": "nY4_3XInl5GX"
      }
    },
    {
      "cell_type": "markdown",
      "source": [
        "Matrix Substraction"
      ],
      "metadata": {
        "id": "xTKbmptxmGbZ"
      }
    },
    {
      "cell_type": "code",
      "source": [
        "# Creating two matrices\n",
        "\n",
        "A = np.array([[2,3],[4,5]])\n",
        "\n",
        "B = np.array([[6,7],[8,9]])\n"
      ],
      "metadata": {
        "id": "ZNGW9_rZmJli"
      },
      "execution_count": null,
      "outputs": []
    },
    {
      "cell_type": "code",
      "source": [
        "print(A)"
      ],
      "metadata": {
        "colab": {
          "base_uri": "https://localhost:8080/"
        },
        "id": "lWe_o69qmXdx",
        "outputId": "3a716d66-8602-4e9b-c52c-456c2082c161"
      },
      "execution_count": 22,
      "outputs": [
        {
          "output_type": "stream",
          "name": "stdout",
          "text": [
            "[[2 3]\n",
            " [4 5]]\n"
          ]
        }
      ]
    },
    {
      "cell_type": "code",
      "source": [
        "print(B)"
      ],
      "metadata": {
        "colab": {
          "base_uri": "https://localhost:8080/"
        },
        "id": "6lxVgNlQmaTS",
        "outputId": "dc7f9611-adeb-4706-cfc2-2ff89b731552"
      },
      "execution_count": 23,
      "outputs": [
        {
          "output_type": "stream",
          "name": "stdout",
          "text": [
            "[[6 7]\n",
            " [8 9]]\n"
          ]
        }
      ]
    },
    {
      "cell_type": "code",
      "source": [
        "defference = A -B"
      ],
      "metadata": {
        "id": "1eqf7-iumOa-"
      },
      "execution_count": 21,
      "outputs": []
    },
    {
      "cell_type": "code",
      "source": [
        "print(defference)"
      ],
      "metadata": {
        "colab": {
          "base_uri": "https://localhost:8080/"
        },
        "id": "yGpuImeymSAM",
        "outputId": "b743759c-10bc-4f53-914d-21b1b01f474b"
      },
      "execution_count": 24,
      "outputs": [
        {
          "output_type": "stream",
          "name": "stdout",
          "text": [
            "[[-4 -4]\n",
            " [-4 -4]]\n"
          ]
        }
      ]
    },
    {
      "cell_type": "code",
      "source": [
        "diff = np.subtract(A,B)"
      ],
      "metadata": {
        "id": "qt9Qgot5migN"
      },
      "execution_count": 25,
      "outputs": []
    },
    {
      "cell_type": "code",
      "source": [
        "print(diff)"
      ],
      "metadata": {
        "colab": {
          "base_uri": "https://localhost:8080/"
        },
        "id": "BOfRKSuym0ro",
        "outputId": "300dc84d-a516-442b-bd0f-d3dd43b5b902"
      },
      "execution_count": 26,
      "outputs": [
        {
          "output_type": "stream",
          "name": "stdout",
          "text": [
            "[[-4 -4]\n",
            " [-4 -4]]\n"
          ]
        }
      ]
    },
    {
      "cell_type": "code",
      "source": [
        "matrix_1 = np.random.randint(10,size = (3,3))\n",
        "matrix_2 = np.random.randint(10,size = (3,3))"
      ],
      "metadata": {
        "id": "zCF07GAgm3G2"
      },
      "execution_count": 27,
      "outputs": []
    },
    {
      "cell_type": "code",
      "source": [
        "print(matrix_1)"
      ],
      "metadata": {
        "colab": {
          "base_uri": "https://localhost:8080/"
        },
        "id": "pZWzWW4Nm4eM",
        "outputId": "dd6c59ab-fff0-4216-f45b-c479a63394d5"
      },
      "execution_count": 28,
      "outputs": [
        {
          "output_type": "stream",
          "name": "stdout",
          "text": [
            "[[4 4 1]\n",
            " [7 6 4]\n",
            " [2 3 4]]\n"
          ]
        }
      ]
    },
    {
      "cell_type": "code",
      "source": [
        "print(matrix_2)"
      ],
      "metadata": {
        "colab": {
          "base_uri": "https://localhost:8080/"
        },
        "id": "cL1ne2UUm60u",
        "outputId": "00503075-d737-4579-8826-1b104c23b620"
      },
      "execution_count": 29,
      "outputs": [
        {
          "output_type": "stream",
          "name": "stdout",
          "text": [
            "[[2 9 1]\n",
            " [6 4 6]\n",
            " [2 2 2]]\n"
          ]
        }
      ]
    },
    {
      "cell_type": "code",
      "source": [
        "diff = np.subtract(matrix_1,matrix_2)"
      ],
      "metadata": {
        "id": "HnEWFzDsm9MU"
      },
      "execution_count": 30,
      "outputs": []
    },
    {
      "cell_type": "code",
      "source": [
        "print(diff)"
      ],
      "metadata": {
        "colab": {
          "base_uri": "https://localhost:8080/"
        },
        "id": "jGWiXyk4nGWP",
        "outputId": "859dee81-b2e3-41e2-92fc-8e94f947e861"
      },
      "execution_count": 31,
      "outputs": [
        {
          "output_type": "stream",
          "name": "stdout",
          "text": [
            "[[ 2 -5  0]\n",
            " [ 1  2 -2]\n",
            " [ 0  1  2]]\n"
          ]
        }
      ]
    },
    {
      "cell_type": "markdown",
      "source": [
        "**Multiplying a matrix by scalar**"
      ],
      "metadata": {
        "id": "INJi4HYunTwo"
      }
    },
    {
      "cell_type": "code",
      "source": [
        "x = 5\n",
        "y = np.random.randint(10,size=(4,4))"
      ],
      "metadata": {
        "id": "DrdxbjELnYXo"
      },
      "execution_count": 32,
      "outputs": []
    },
    {
      "cell_type": "code",
      "source": [
        "print(y)"
      ],
      "metadata": {
        "colab": {
          "base_uri": "https://localhost:8080/"
        },
        "id": "k-6vT0P9ngUP",
        "outputId": "2d34dc68-4aac-42b3-f83f-93a683f1c1b9"
      },
      "execution_count": 33,
      "outputs": [
        {
          "output_type": "stream",
          "name": "stdout",
          "text": [
            "[[0 3 0 2]\n",
            " [8 2 8 6]\n",
            " [5 6 1 0]\n",
            " [8 4 1 5]]\n"
          ]
        }
      ]
    },
    {
      "cell_type": "code",
      "source": [
        "product = np.multiply(x,y)"
      ],
      "metadata": {
        "id": "tvR-8djGnih_"
      },
      "execution_count": 34,
      "outputs": []
    },
    {
      "cell_type": "code",
      "source": [
        "print(product)"
      ],
      "metadata": {
        "colab": {
          "base_uri": "https://localhost:8080/"
        },
        "id": "wG0wBqD5nnwN",
        "outputId": "5e50fe7f-3ac6-4677-92e3-72adc260f20e"
      },
      "execution_count": 35,
      "outputs": [
        {
          "output_type": "stream",
          "name": "stdout",
          "text": [
            "[[ 0 15  0 10]\n",
            " [40 10 40 30]\n",
            " [25 30  5  0]\n",
            " [40 20  5 25]]\n"
          ]
        }
      ]
    },
    {
      "cell_type": "markdown",
      "source": [
        "**Multiplying 2 Matrices**"
      ],
      "metadata": {
        "id": "6n-hvgjkoDfZ"
      }
    },
    {
      "cell_type": "code",
      "source": [
        "# Create two matrices with random values\n",
        "matrix_3 = np.random.randint(10,size = (3,3))\n",
        "matrix_4 = np.random.randint(10,size = (3,4))"
      ],
      "metadata": {
        "id": "6MahfxxFoCgA"
      },
      "execution_count": 36,
      "outputs": []
    },
    {
      "cell_type": "code",
      "source": [
        "print(matrix_3)"
      ],
      "metadata": {
        "colab": {
          "base_uri": "https://localhost:8080/"
        },
        "id": "Quz7CUwEoQcF",
        "outputId": "b708a2b8-296a-407b-a354-508303dfaee7"
      },
      "execution_count": 37,
      "outputs": [
        {
          "output_type": "stream",
          "name": "stdout",
          "text": [
            "[[5 4 8]\n",
            " [7 0 6]\n",
            " [1 3 2]]\n"
          ]
        }
      ]
    },
    {
      "cell_type": "code",
      "source": [
        "print(matrix_4)"
      ],
      "metadata": {
        "colab": {
          "base_uri": "https://localhost:8080/"
        },
        "id": "lR-yVWnpoS8b",
        "outputId": "a2190ce3-3fa0-41ce-caed-ceae0a79d216"
      },
      "execution_count": 38,
      "outputs": [
        {
          "output_type": "stream",
          "name": "stdout",
          "text": [
            "[[6 8 1 8]\n",
            " [2 4 9 9]\n",
            " [0 1 9 1]]\n"
          ]
        }
      ]
    },
    {
      "cell_type": "code",
      "source": [
        "product = np.dot(matrix_3,matrix_4)"
      ],
      "metadata": {
        "id": "hxMY1Xi7oXky"
      },
      "execution_count": 40,
      "outputs": []
    },
    {
      "cell_type": "code",
      "source": [
        "print(product)"
      ],
      "metadata": {
        "colab": {
          "base_uri": "https://localhost:8080/"
        },
        "id": "--aUh55noegT",
        "outputId": "71811600-95f8-4d70-eb1c-d03e95271726"
      },
      "execution_count": 41,
      "outputs": [
        {
          "output_type": "stream",
          "name": "stdout",
          "text": [
            "[[ 38  64 113  84]\n",
            " [ 42  62  61  62]\n",
            " [ 12  22  46  37]]\n"
          ]
        }
      ]
    },
    {
      "cell_type": "code",
      "source": [
        "print(product.shape)"
      ],
      "metadata": {
        "colab": {
          "base_uri": "https://localhost:8080/"
        },
        "id": "NMxat_UgogKe",
        "outputId": "aff9c650-9451-41d1-c50d-9490a7f22b4d"
      },
      "execution_count": 42,
      "outputs": [
        {
          "output_type": "stream",
          "name": "stdout",
          "text": [
            "(3, 4)\n"
          ]
        }
      ]
    },
    {
      "cell_type": "code",
      "source": [
        "# Create two matrices with random values\n",
        "matrix_3 = np.random.randint(10,size = (3,3))\n",
        "matrix_4 = np.random.randint(10,size = (4,4))"
      ],
      "metadata": {
        "id": "JNmmY_jgoq9P"
      },
      "execution_count": 43,
      "outputs": []
    },
    {
      "cell_type": "code",
      "source": [
        "product = np.dot(matrix_3,matrix_4)"
      ],
      "metadata": {
        "colab": {
          "base_uri": "https://localhost:8080/",
          "height": 141
        },
        "id": "lPr3Q_7PovYu",
        "outputId": "0340afc2-62e6-4e54-ce28-9f12994da836"
      },
      "execution_count": 44,
      "outputs": [
        {
          "output_type": "error",
          "ename": "ValueError",
          "evalue": "shapes (3,3) and (4,4) not aligned: 3 (dim 1) != 4 (dim 0)",
          "traceback": [
            "\u001b[0;31m---------------------------------------------------------------------------\u001b[0m",
            "\u001b[0;31mValueError\u001b[0m                                Traceback (most recent call last)",
            "\u001b[0;32m<ipython-input-44-6f68945e3a11>\u001b[0m in \u001b[0;36m<cell line: 1>\u001b[0;34m()\u001b[0m\n\u001b[0;32m----> 1\u001b[0;31m \u001b[0mproduct\u001b[0m \u001b[0;34m=\u001b[0m \u001b[0mnp\u001b[0m\u001b[0;34m.\u001b[0m\u001b[0mdot\u001b[0m\u001b[0;34m(\u001b[0m\u001b[0mmatrix_3\u001b[0m\u001b[0;34m,\u001b[0m\u001b[0mmatrix_4\u001b[0m\u001b[0;34m)\u001b[0m\u001b[0;34m\u001b[0m\u001b[0;34m\u001b[0m\u001b[0m\n\u001b[0m",
            "\u001b[0;31mValueError\u001b[0m: shapes (3,3) and (4,4) not aligned: 3 (dim 1) != 4 (dim 0)"
          ]
        }
      ]
    },
    {
      "cell_type": "markdown",
      "source": [
        "**Element wise Matrices Multiplication**"
      ],
      "metadata": {
        "id": "csQ2ELe9o9Ym"
      }
    },
    {
      "cell_type": "code",
      "source": [
        "# Create two matrices with random values\n",
        "matrix_3 = np.random.randint(10,size = (3,3))\n",
        "matrix_4 = np.random.randint(10,size = (3,3))"
      ],
      "metadata": {
        "id": "hkDb4V-OpIWw"
      },
      "execution_count": 45,
      "outputs": []
    },
    {
      "cell_type": "code",
      "source": [
        "print(matrix_3)"
      ],
      "metadata": {
        "colab": {
          "base_uri": "https://localhost:8080/"
        },
        "id": "tK4TrNVVpNlc",
        "outputId": "264f2edc-c05f-48c3-ba3a-606126e89315"
      },
      "execution_count": 46,
      "outputs": [
        {
          "output_type": "stream",
          "name": "stdout",
          "text": [
            "[[1 2 5]\n",
            " [3 7 6]\n",
            " [1 1 5]]\n"
          ]
        }
      ]
    },
    {
      "cell_type": "code",
      "source": [
        "print(matrix_4)"
      ],
      "metadata": {
        "colab": {
          "base_uri": "https://localhost:8080/"
        },
        "id": "g95eimeppQ9F",
        "outputId": "3ff31b32-bf16-40c2-9bf5-adf0f885e72a"
      },
      "execution_count": 47,
      "outputs": [
        {
          "output_type": "stream",
          "name": "stdout",
          "text": [
            "[[2 3 5]\n",
            " [9 8 3]\n",
            " [3 8 2]]\n"
          ]
        }
      ]
    },
    {
      "cell_type": "code",
      "source": [
        "product = np.multiply(matrix_3,matrix_4)"
      ],
      "metadata": {
        "id": "DysDQLe7pVm6"
      },
      "execution_count": 48,
      "outputs": []
    },
    {
      "cell_type": "code",
      "source": [
        "print(product)"
      ],
      "metadata": {
        "colab": {
          "base_uri": "https://localhost:8080/"
        },
        "id": "t5KW4TRZpdjZ",
        "outputId": "d219bcf2-f404-41bd-9ad4-c2a8a68da3df"
      },
      "execution_count": 49,
      "outputs": [
        {
          "output_type": "stream",
          "name": "stdout",
          "text": [
            "[[ 2  6 25]\n",
            " [27 56 18]\n",
            " [ 3  8 10]]\n"
          ]
        }
      ]
    }
  ]
}