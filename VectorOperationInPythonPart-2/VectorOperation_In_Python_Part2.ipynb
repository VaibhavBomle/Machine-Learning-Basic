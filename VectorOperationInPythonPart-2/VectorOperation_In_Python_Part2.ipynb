{
  "nbformat": 4,
  "nbformat_minor": 0,
  "metadata": {
    "colab": {
      "provenance": []
    },
    "kernelspec": {
      "name": "python3",
      "display_name": "Python 3"
    },
    "language_info": {
      "name": "python"
    }
  },
  "cells": [
    {
      "cell_type": "code",
      "execution_count": 2,
      "metadata": {
        "id": "NQZQmZ4Vd6oi"
      },
      "outputs": [],
      "source": [
        "import numpy as np"
      ]
    },
    {
      "cell_type": "markdown",
      "source": [
        "Dot Product of 2 Vectors"
      ],
      "metadata": {
        "id": "y5YTCL-JeEve"
      }
    },
    {
      "cell_type": "code",
      "source": [
        "a = np.array([2,3])\n",
        "\n",
        "b = np.array([4,4])\n",
        "\n",
        "a_dot_b = np.dot(a,b)"
      ],
      "metadata": {
        "id": "FWNFLCmXeH-W"
      },
      "execution_count": 3,
      "outputs": []
    },
    {
      "cell_type": "code",
      "source": [
        "print(a_dot_b)"
      ],
      "metadata": {
        "colab": {
          "base_uri": "https://localhost:8080/"
        },
        "id": "dWkQEx9leYQ-",
        "outputId": "18a4847d-fe40-4e09-c45a-628112efed07"
      },
      "execution_count": 4,
      "outputs": [
        {
          "output_type": "stream",
          "name": "stdout",
          "text": [
            "20\n"
          ]
        }
      ]
    },
    {
      "cell_type": "code",
      "source": [
        "c = np.array([40,20,35])\n",
        "\n",
        "d = np.array([53,24,68])\n",
        "\n",
        "c_dot_d = np.dot(c,d)\n",
        "\n",
        "print(c_dot_d)"
      ],
      "metadata": {
        "colab": {
          "base_uri": "https://localhost:8080/"
        },
        "id": "wzPHRClEehNO",
        "outputId": "2728b794-120a-46b1-9112-1acabd34faff"
      },
      "execution_count": 5,
      "outputs": [
        {
          "output_type": "stream",
          "name": "stdout",
          "text": [
            "4980\n"
          ]
        }
      ]
    },
    {
      "cell_type": "markdown",
      "source": [
        "Cross Product of 2 Vectors"
      ],
      "metadata": {
        "id": "EWIcqH9ne7YL"
      }
    },
    {
      "cell_type": "code",
      "source": [
        "a = np.array([2, 3])\n",
        "\n",
        "b = np.array([4, 4])\n",
        "\n",
        "a_cross_b = np.cross(a,b)\n",
        "\n",
        "print(a_cross_b)"
      ],
      "metadata": {
        "colab": {
          "base_uri": "https://localhost:8080/"
        },
        "id": "WagjoY_TfAzq",
        "outputId": "43ea2a44-4263-4209-a0af-78db64e22fb3"
      },
      "execution_count": 7,
      "outputs": [
        {
          "output_type": "stream",
          "name": "stdout",
          "text": [
            "-4\n"
          ]
        }
      ]
    },
    {
      "cell_type": "code",
      "source": [
        "c = np.array([5, 10, 20])\n",
        "\n",
        "d = np.array([18, 32, 50])\n",
        "\n",
        "c_cross_d = np.cross(c,d)\n",
        "\n",
        "print(c_cross_d)"
      ],
      "metadata": {
        "colab": {
          "base_uri": "https://localhost:8080/"
        },
        "id": "gP2hhAnd644n",
        "outputId": "8ba6c5d9-cceb-4890-9fbc-617c97bb6dad"
      },
      "execution_count": 9,
      "outputs": [
        {
          "output_type": "stream",
          "name": "stdout",
          "text": [
            "[-140  110  -20]\n"
          ]
        }
      ]
    },
    {
      "cell_type": "markdown",
      "source": [
        "Projection of 'a' vector on 'v' vector\n",
        "\n",
        "The projection of\n",
        "→\n",
        "A\n",
        " on\n",
        "→\n",
        "V\n",
        " is defined as\n",
        "→\n",
        "A\n",
        ".\n",
        "→\n",
        "V\n",
        "|\n",
        "→\n",
        "V\n",
        "|\n",
        "=\n",
        "→\n",
        "A\n",
        ".\n",
        "^\n",
        "V\n",
        "\n"
      ],
      "metadata": {
        "id": "RXxI7hma7NP0"
      }
    },
    {
      "cell_type": "code",
      "source": [
        "a = np.array([2,3])\n",
        "\n",
        "v = np.array([8,6])\n",
        "\n",
        "# magnitude of \"v\" vector\n",
        "magnitude_of_v = np.sqrt(sum(v**2))\n",
        "\n",
        "proj_of_a_on_v = (np.dot(a,v)/magnitude_of_v**2)*v\n",
        "\n",
        "print('Projection of a vector on v vector =',proj_of_a_on_v)\n"
      ],
      "metadata": {
        "colab": {
          "base_uri": "https://localhost:8080/"
        },
        "id": "xnelvV-h7L-P",
        "outputId": "505e44f5-959f-4fe9-b38b-79950abbcc71"
      },
      "execution_count": 11,
      "outputs": [
        {
          "output_type": "stream",
          "name": "stdout",
          "text": [
            "Projection of a vector on v vector = [2.72 2.04]\n"
          ]
        }
      ]
    },
    {
      "cell_type": "code",
      "source": [
        "a = np.array([2,3,8])\n",
        "\n",
        "v = np.array([8,6,2])\n",
        "\n",
        "# magnitude of \"v\" vector\n",
        "magnitude_of_v = np.sqrt(sum(v**2))\n",
        "\n",
        "proj_of_a_on_v = (np.dot(a,v)/magnitude_of_v**2)*v\n",
        "\n",
        "print('Projection of a vector on v vector =',proj_of_a_on_v)"
      ],
      "metadata": {
        "colab": {
          "base_uri": "https://localhost:8080/"
        },
        "id": "sRQ6TxPUAWey",
        "outputId": "33ea8cbd-759a-481e-9628-ab614cfbbeab"
      },
      "execution_count": 12,
      "outputs": [
        {
          "output_type": "stream",
          "name": "stdout",
          "text": [
            "Projection of a vector on v vector = [3.84615385 2.88461538 0.96153846]\n"
          ]
        }
      ]
    }
  ]
}